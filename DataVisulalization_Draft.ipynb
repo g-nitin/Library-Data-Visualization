{
 "cells": [
  {
   "cell_type": "markdown",
   "id": "70ecc20c",
   "metadata": {},
   "source": [
    "# DATA VISUALIZATION WITH PLOTLY\n",
    "\n",
    "This notebook walks you through visualizing your data in various types of graphs by using the plotly and pandas libraries."
   ]
  },
  {
   "cell_type": "markdown",
   "id": "03a50007",
   "metadata": {},
   "source": [
    "$~$"
   ]
  },
  {
   "cell_type": "markdown",
   "id": "e26f2b9e",
   "metadata": {},
   "source": [
    "## Installing and importing plotly and pandas\n",
    "\n",
    "First, we need to install the libraries in our system. This takes only line of code to run"
   ]
  },
  {
   "cell_type": "code",
   "execution_count": null,
   "id": "eeb13f70",
   "metadata": {},
   "outputs": [],
   "source": [
    "import sys\n",
    "!{sys.executable} -m pip install plotly\n",
    "!{sys.executable} -m pip install pandas"
   ]
  },
  {
   "cell_type": "markdown",
   "id": "ffecc555",
   "metadata": {},
   "source": [
    "After installing the libraries, we need to import them to work on this notebook..."
   ]
  },
  {
   "cell_type": "code",
   "execution_count": null,
   "id": "26757e2d",
   "metadata": {},
   "outputs": [],
   "source": [
    "import plotly.express as px\n",
    "import pandas as pd"
   ]
  },
  {
   "cell_type": "markdown",
   "id": "216a1ecc",
   "metadata": {},
   "source": [
    "$~$"
   ]
  },
  {
   "cell_type": "markdown",
   "id": "8c6aea57",
   "metadata": {},
   "source": [
    "## Reading your file\n",
    "To read the file that you want to visualize, you need the relative path of that file. Once you get that path, you just need to type that in the **filePath** variable down below.\n",
    "\n",
    "For example, if the file is saved in a sepearate folder (but in the same directory as this notebook) named \"data\", then your filePath variable will look like,\n",
    "filePath = \"data/sample.csv\""
   ]
  },
  {
   "cell_type": "code",
   "execution_count": null,
   "id": "970064cf",
   "metadata": {},
   "outputs": [],
   "source": [
    "filePath = \"data/iris.csv\"; # insert your filepath"
   ]
  },
  {
   "cell_type": "markdown",
   "id": "8c8f8c70",
   "metadata": {},
   "source": [
    "And, then run this line to store the data from that file in a panda dataframe."
   ]
  },
  {
   "cell_type": "code",
   "execution_count": null,
   "id": "25a4bb17",
   "metadata": {},
   "outputs": [],
   "source": [
    "df = pd.read_csv(filePath)"
   ]
  },
  {
   "cell_type": "markdown",
   "id": "a6475c86",
   "metadata": {},
   "source": [
    "<br>"
   ]
  },
  {
   "cell_type": "markdown",
   "id": "2ab87f28",
   "metadata": {},
   "source": [
    "## Printing out the data\n",
    "\n",
    "By default, the print(df) commmand prints out only the first and last five of the various rows and columns from your file."
   ]
  },
  {
   "cell_type": "code",
   "execution_count": null,
   "id": "06c55c3c",
   "metadata": {},
   "outputs": [],
   "source": [
    "print(df)"
   ]
  },
  {
   "cell_type": "markdown",
   "id": "74a6bc02",
   "metadata": {},
   "source": [
    "However, to display all (or some) of the rows and/or columns, you need to run either or both of the following commands.\n",
    "<br> **CAUTION**: Your dataset might have many thousand or millions of rows/columns, so displaying all of them might slow your browser down.\n",
    "<br>\n",
    "<br> In these commands, use 'None' as the 2nd argument to show all of the columns or rows (default option), or set 'None' to an integer to show that specific number of columns or rows"
   ]
  },
  {
   "cell_type": "code",
   "execution_count": null,
   "id": "1583d30d",
   "metadata": {},
   "outputs": [],
   "source": [
    "# for changing the columns...\n",
    "pd.set_option('display.max_columns', None)\n",
    "\n",
    "# for changing the rows...\n",
    "pd.set_option('display.max_rows', None)"
   ]
  },
  {
   "cell_type": "markdown",
   "id": "df3c6310",
   "metadata": {},
   "source": [
    "Then, run print(df) again to show those number of rows and columns"
   ]
  },
  {
   "cell_type": "code",
   "execution_count": null,
   "id": "39159e9d",
   "metadata": {
    "scrolled": true
   },
   "outputs": [],
   "source": [
    "print(df)"
   ]
  },
  {
   "cell_type": "markdown",
   "id": "27bf0785",
   "metadata": {},
   "source": [
    "<br>\n",
    "<br>"
   ]
  },
  {
   "cell_type": "markdown",
   "id": "6e572207",
   "metadata": {},
   "source": [
    "### Instructions\n",
    "<br> For any of the following graphs, you need to define which columns from your data goes in the x and y axis.\n",
    "To do this, put those column names (inside the quotation marks) in the xAxisName and yAxisName variables.\n",
    "Similarily, to add a title, change the title variable (inside quotations) to be your desired title.\n",
    "\n",
    "<br>\n",
    "\n",
    "#### For importing images as files...\n",
    "\n",
    "1. For interactive HTML files: \n",
    "<br>Below each cell for creating the image is a cell for exporting that image to a .html file. Just run that cell to export the image.\n",
    "<br>In the cell, change \"path/to/file\" to your destination and the file name you want BEFORE the \".html\".\n",
    "<br>For example, \"data/sampleFile.html\" gets saved under the same directory but within the data folder and has the name \"sampleFile.html\".\n",
    "<br>\n",
    "\n",
    "2. For .png files:\n",
    "<br>The easiest way to import the image as .png is to create the image and then hover over the image. Once you do that, there should appear around eight various options on the top right of the image cell. When you click over the camera icon (the leftmost option), you can save the image as a .png file locally."
   ]
  },
  {
   "cell_type": "markdown",
   "id": "80d338b4",
   "metadata": {},
   "source": [
    "**Note about choosing colors**\n",
    "<br>With the following graphs you can pass in a column name from you dataset as the color argument.\n",
    "\n",
    "<br> Plotly will automatically assigns data values to continuous color if the column is numeric. \n",
    "<br> However, if the column contains strings, the color will automatically be considered discrete (also known as categorical or qualitative).\n",
    "\n",
    "<br>\n",
    "\n",
    "When defining other variables for that specific graph, you could also specify the color argument, which looks this...\n",
    "```Python \n",
    "color = \"<insert column name here>\" \n",
    "```\n",
    "\n",
    "If your data column contains numeric values, you can also convert those numerics to strings...\n",
    "```Python\n",
    "df[\"<column name>\"] = df[\"<column name>\"].astype(str)\n",
    "```\n",
    "\n",
    "Similarily, you can also convert from strings to numerics...\n",
    "```Python\n",
    "df[\"<column name>\"] = df[\"<column name>\"].astype(float)\n",
    "```\n",
    "<br>\n",
    "\n",
    "*In these commands, you insert the column name in place of: ' `<insert column name here>` '*\n",
    "\n",
    "<br>\n",
    "\n",
    "**NOTE:**\n",
    "<br>\n",
    "**To use any of the above 3 commands, just uncomment them within that specific graph cell\n",
    "<br>\n",
    "To uncomment, remove the pound ('#') symbol before those lines\n",
    "<br> <br>\n",
    "If you do end up using those commands, you need to replace**\n",
    "```Python\n",
    "color = None\n",
    "``` \n",
    "**with** \n",
    "```Python\n",
    "color = color\n",
    "```\n",
    "**in the parameter (within the parenthesis) of the call to graph that function (the call is usually the line preceding `figure.show()` command)**"
   ]
  },
  {
   "cell_type": "markdown",
   "id": "6b28999e",
   "metadata": {},
   "source": [
    "<br><br>"
   ]
  },
  {
   "cell_type": "markdown",
   "id": "6b8061fb",
   "metadata": {},
   "source": [
    "## Line graph"
   ]
  },
  {
   "cell_type": "code",
   "execution_count": null,
   "id": "bb2f56e4",
   "metadata": {},
   "outputs": [],
   "source": [
    "xAxisName = \"5.1\"\n",
    "yAxisName = \"3.5\"\n",
    "\n",
    "title = \"Sample\"\n",
    "\n",
    "\n",
    "# Optional commands...\n",
    "\n",
    "# df[\"<insert column name here>\"] = df[\"<insert column name here>\"].astype(str)\n",
    "# df[\"<insert column name here>\"] = df[\"<insert column name here>\"].astype(float)\n",
    "\n",
    "color = \"Iris-setosa\" "
   ]
  },
  {
   "cell_type": "markdown",
   "id": "9b54c22b",
   "metadata": {},
   "source": [
    "After setting the various variables and runnning the cell above, just run the cell below to draw the line graph."
   ]
  },
  {
   "cell_type": "code",
   "execution_count": null,
   "id": "a51ec486",
   "metadata": {
    "scrolled": true
   },
   "outputs": [],
   "source": [
    "lineFigure = px.line(df, xAxisName, yAxisName, title = title, color = color)\n",
    "lineFigure.show()"
   ]
  },
  {
   "cell_type": "code",
   "execution_count": null,
   "id": "48d72f0f",
   "metadata": {},
   "outputs": [],
   "source": [
    "# Run and change this cell if you want to import the image as an HTML file.\n",
    "lineFigure.write_html(\"path/to/file.html\")"
   ]
  },
  {
   "cell_type": "markdown",
   "id": "16e0c13c",
   "metadata": {},
   "source": [
    "<br>\n",
    "<br>"
   ]
  },
  {
   "cell_type": "markdown",
   "id": "8d9b3690",
   "metadata": {},
   "source": [
    "## Bar Graph"
   ]
  },
  {
   "cell_type": "code",
   "execution_count": null,
   "id": "b39f0156",
   "metadata": {
    "scrolled": false
   },
   "outputs": [],
   "source": [
    "xAxisName = \"3.5\"\n",
    "yAxisName = \"5.1\"\n",
    "title = \"\"\n",
    "\n",
    "orientation = \"h\" ## Enter either \"v\" for a verticle bar graph or \"h\" for a horizontal one.\n",
    "\n",
    "\n",
    "# Optional commands...\n",
    "\n",
    "# df[\"<insert column name here>\"] = df[\"<insert column name here>\"].astype(str)\n",
    "# df[\"<insert column name here>\"] = df[\"<insert column name here>\"].astype(float)\n",
    "\n",
    "# color = \"<insert column name here>\" \n",
    "\n",
    "barFigure = px.bar(df, x = xAxisName, y = yAxisName, title = title, orientation = orientation, color = None)\n",
    "barFigure.show()"
   ]
  },
  {
   "cell_type": "code",
   "execution_count": null,
   "id": "2dd2695b",
   "metadata": {},
   "outputs": [],
   "source": [
    "# Run and change this cell if you want to import the image as an HTML file.\n",
    "barFigure.write_html(\"path/to/file.html\")"
   ]
  },
  {
   "cell_type": "markdown",
   "id": "3fe0f2d8",
   "metadata": {},
   "source": [
    "<br>\n",
    "<br>"
   ]
  },
  {
   "cell_type": "markdown",
   "id": "c12ffdd3",
   "metadata": {},
   "source": [
    "## Scatter Plot"
   ]
  },
  {
   "cell_type": "code",
   "execution_count": null,
   "id": "1fd92fc0",
   "metadata": {},
   "outputs": [],
   "source": [
    "xAxisName = \"3.5\"\n",
    "yAxisName = \"5.1\"\n",
    "title = \"\"\n",
    "\n",
    "\n",
    "# Optional commands...\n",
    "\n",
    "# df[\"<insert column name here>\"] = df[\"<insert column name here>\"].astype(str)\n",
    "# df[\"<insert column name here>\"] = df[\"<insert column name here>\"].astype(float)\n",
    "\n",
    "color = \"0.2\" \n",
    "\n",
    "scatterFigure = px.scatter(df, xAxisName, yAxisName, title = title, color = color)\n",
    "scatterFigure.show()"
   ]
  },
  {
   "cell_type": "code",
   "execution_count": null,
   "id": "8f79b8ac",
   "metadata": {},
   "outputs": [],
   "source": [
    "# Run and change this cell if you want to import the image as an HTML file.\n",
    "scatterFigure.write_html(\"path/to/file.html\")"
   ]
  },
  {
   "cell_type": "markdown",
   "id": "ce20ccb2",
   "metadata": {},
   "source": [
    "<br><br>"
   ]
  },
  {
   "cell_type": "markdown",
   "id": "71357f6d",
   "metadata": {},
   "source": [
    "## Pie Chart"
   ]
  },
  {
   "cell_type": "code",
   "execution_count": null,
   "id": "68703f73",
   "metadata": {},
   "outputs": [],
   "source": [
    "xAxisName = \"3.5\"\n",
    "yAxisName = \"5.1\"\n",
    "title = \"\"\n",
    "\n",
    "\n",
    "# Optional commands...\n",
    "\n",
    "# df[\"<insert column name here>\"] = df[\"<insert column name here>\"].astype(str)\n",
    "# df[\"<insert column name here>\"] = df[\"<insert column name here>\"].astype(float)\n",
    "\n",
    "# color = \"<insert column name here>\" \n",
    " \n",
    "\n",
    "pieFigure = px.pie(df, xAxisName, yAxisName, title=title, color = None)\n",
    "pieFigure.show()"
   ]
  },
  {
   "cell_type": "code",
   "execution_count": null,
   "id": "714a7207",
   "metadata": {},
   "outputs": [],
   "source": [
    "# Run and change this cell if you want to import the image as an HTML file.\n",
    "pieFigure.write_html(\"path/to/file.html\")"
   ]
  }
 ],
 "metadata": {
  "kernelspec": {
   "display_name": "Python 3 (ipykernel)",
   "language": "python",
   "name": "python3"
  },
  "language_info": {
   "codemirror_mode": {
    "name": "ipython",
    "version": 3
   },
   "file_extension": ".py",
   "mimetype": "text/x-python",
   "name": "python",
   "nbconvert_exporter": "python",
   "pygments_lexer": "ipython3",
   "version": "3.9.7"
  }
 },
 "nbformat": 4,
 "nbformat_minor": 5
}
